{
  "nbformat": 4,
  "nbformat_minor": 0,
  "metadata": {
    "colab": {
      "name": "넘파이.ipynb",
      "provenance": [],
      "authorship_tag": "ABX9TyM1G2lokkPh4vZC1/JcUfW1",
      "include_colab_link": true
    },
    "kernelspec": {
      "name": "python3",
      "display_name": "Python 3"
    },
    "language_info": {
      "name": "python"
    }
  },
  "cells": [
    {
      "cell_type": "markdown",
      "metadata": {
        "id": "view-in-github",
        "colab_type": "text"
      },
      "source": [
        "<a href=\"https://colab.research.google.com/github/soyoonjeong/SAI-ML-STUDY/blob/main/%EB%84%98%ED%8C%8C%EC%9D%B4.ipynb\" target=\"_parent\"><img src=\"https://colab.research.google.com/assets/colab-badge.svg\" alt=\"Open In Colab\"/></a>"
      ]
    },
    {
      "cell_type": "code",
      "source": [
        "import numpy as np"
      ],
      "metadata": {
        "id": "8Isvkx_KKLQ-"
      },
      "execution_count": 12,
      "outputs": []
    },
    {
      "cell_type": "markdown",
      "source": [
        "# 넘파이 ndarray 개요 "
      ],
      "metadata": {
        "id": "DPIJ2yCmJuP0"
      }
    },
    {
      "cell_type": "code",
      "execution_count": 2,
      "metadata": {
        "colab": {
          "base_uri": "https://localhost:8080/"
        },
        "id": "85C8SgKoJsFD",
        "outputId": "372292bc-09a5-442a-9cb7-1b0f6be7b878"
      },
      "outputs": [
        {
          "output_type": "stream",
          "name": "stdout",
          "text": [
            "[[1 2 3]\n",
            " [4 5 6]]\n",
            "array1 type: <class 'numpy.ndarray'>\n",
            "array1 array 형태: (2, 3)\n"
          ]
        }
      ],
      "source": [
        "# 넘파이의 array() 함수 : 인자를 입력받아 ndarray로 변환\n",
        "array1 = np.array([[1,2,3],\n",
        "                   [4,5,6]])\n",
        "print(array1)\n",
        "print('array1 type:', type(array1))\n",
        "print('array1 array 형태:', array1.shape) # ndarray의 shape : ndarray의 열과 행의 크기를 튜플 형태로"
      ]
    },
    {
      "cell_type": "code",
      "source": [
        "array2 = np.array([1,2,3])\n",
        "print(array2)\n",
        "print('array2 type:', type(array2))\n",
        "print('array2 array 형태:', array2.shape)\n",
        "print('array2 array 차원:', array2.ndim) # ndarray의 ndim : ndarray의 차원\n",
        "\n",
        "array3 = np.array([[1,2,3]])\n",
        "print(array3)\n",
        "print('array3 type:', type(array3))\n",
        "print('array3 array 형태:', array3.shape)\n",
        "print('array3 array 차원:', array3.ndim)\n",
        "\n",
        "# array2와 array3는 동일한 데이터 건수를 가지고 있지만\n",
        "# array2는 1차원 (3,) 데이터\n",
        "# array3는 1개의 행과 3개의 열로 이루어진 2차원 (1,3) 데이터"
      ],
      "metadata": {
        "colab": {
          "base_uri": "https://localhost:8080/"
        },
        "id": "kmYv06K3KoIw",
        "outputId": "b5c4afef-9810-4978-d0e2-816b60f34228"
      },
      "execution_count": 3,
      "outputs": [
        {
          "output_type": "stream",
          "name": "stdout",
          "text": [
            "[1 2 3]\n",
            "array2 type: <class 'numpy.ndarray'>\n",
            "array2 array 형태: (3,)\n",
            "array2 array 차원: 1\n",
            "[[1 2 3]]\n",
            "array3 type: <class 'numpy.ndarray'>\n",
            "array3 array 형태: (1, 3)\n",
            "array3 array 차원: 2\n"
          ]
        }
      ]
    },
    {
      "cell_type": "markdown",
      "source": [
        "# ndarray의 데이터 타입"
      ],
      "metadata": {
        "id": "Wg4y0y7QL-iF"
      }
    },
    {
      "cell_type": "markdown",
      "source": [
        "ndarray 내의 데이터 타입은 연산 특성상 같은 데이터 타입만 가능!<br>\n",
        "만약 다른 데이터 유형이 섞여있는 리스트를 ndarray로 변경하면 데이터 크기가 더 큰 데이터 타입으로 형 변환"
      ],
      "metadata": {
        "id": "xcVNM40KMKum"
      }
    },
    {
      "cell_type": "code",
      "source": [
        "list1 = [1,2,'test']\n",
        "array1 = np.array(list1)\n",
        "print(array1)\n",
        "print(array1.dtype) # ndarray의 dtype : ndarray 내의 데이터 타입 확인\n",
        "# int형 값과 문자열이 섞여 있는 리스트를 ndarray로 변경하면 모두 문자열로 변환\n",
        "\n",
        "list2 = [1,2,3.0]\n",
        "array2 = np.array(list2)\n",
        "print(array2)\n",
        "print(array2.dtype)\n",
        "# int형 값과 float형이 섞여 있는 리스트를 ndarray로 변경하면 모두 float형으로 변환"
      ],
      "metadata": {
        "colab": {
          "base_uri": "https://localhost:8080/"
        },
        "id": "5Y-frdKkLzwV",
        "outputId": "a1cdce97-fcd7-46a6-de82-b94ec340a4ac"
      },
      "execution_count": 4,
      "outputs": [
        {
          "output_type": "stream",
          "name": "stdout",
          "text": [
            "['1' '2' 'test']\n",
            "<U21\n",
            "[1. 2. 3.]\n",
            "float64\n"
          ]
        }
      ]
    },
    {
      "cell_type": "code",
      "source": [
        "array_float = np.array([1.1,2.2,3.3])\n",
        "array_int = array_float.astype('int32') # astype() : 인자로 원하는 타입을 문자열로 지정, 형변환\n",
        "print(array_int, array_int.dtype)"
      ],
      "metadata": {
        "colab": {
          "base_uri": "https://localhost:8080/"
        },
        "id": "ItBTExQqNH7-",
        "outputId": "733f3696-fb9b-4ce6-8dcd-e2c60cd03128"
      },
      "execution_count": 7,
      "outputs": [
        {
          "output_type": "stream",
          "name": "stdout",
          "text": [
            "[1 2 3] int32\n"
          ]
        }
      ]
    },
    {
      "cell_type": "markdown",
      "source": [
        "# ndarray를 편리하게 생성하기 - arange, zeros, ones"
      ],
      "metadata": {
        "id": "wc8p6yGBTNbY"
      }
    },
    {
      "cell_type": "code",
      "source": [
        "sequence_array = np.arange(10) # arange() : 인자는 stop 값, 0부터 함수 인자 값 -1까지의 값을 순차적으로 ndarray의 데이터값으로 반환\n",
        "print(sequence_array)\n",
        "print(sequence_array.shape)"
      ],
      "metadata": {
        "colab": {
          "base_uri": "https://localhost:8080/"
        },
        "id": "q0BmdOfYTXeX",
        "outputId": "9e524f31-83bb-407e-aa27-0a36f3219c4a"
      },
      "execution_count": 8,
      "outputs": [
        {
          "output_type": "stream",
          "name": "stdout",
          "text": [
            "[0 1 2 3 4 5 6 7 8 9]\n",
            "(10,)\n"
          ]
        }
      ]
    },
    {
      "cell_type": "code",
      "source": [
        "zero_array = np.zeros((4,5), dtype='int32') # zeros() : 인자로 튜플 형태의 shape 값을 입력하면 모든 값을 0으로 채운 해당 shape를 가진 ndarray 반환\n",
        "print(zero_array, zero_array.shape)"
      ],
      "metadata": {
        "colab": {
          "base_uri": "https://localhost:8080/"
        },
        "id": "8vFvQFmGT1g5",
        "outputId": "923806f9-371e-4ade-da69-04295651865b"
      },
      "execution_count": 10,
      "outputs": [
        {
          "output_type": "stream",
          "name": "stdout",
          "text": [
            "[[0 0 0 0 0]\n",
            " [0 0 0 0 0]\n",
            " [0 0 0 0 0]\n",
            " [0 0 0 0 0]] (4, 5)\n"
          ]
        }
      ]
    },
    {
      "cell_type": "code",
      "source": [
        "one_array = np.ones((4,9), dtype='int32') # ones() : 인자로 튜플 형태의 shape 값을 입력하면 모든 값을 1으로 채운 해당 shape를 가진 ndarray 반환\n",
        "print(one_array, one_array.shape)"
      ],
      "metadata": {
        "colab": {
          "base_uri": "https://localhost:8080/"
        },
        "id": "eJK0dt3BUQ2x",
        "outputId": "2895f18d-8b5a-4556-973f-a430ef592894"
      },
      "execution_count": 11,
      "outputs": [
        {
          "output_type": "stream",
          "name": "stdout",
          "text": [
            "[[1 1 1 1 1 1 1 1 1]\n",
            " [1 1 1 1 1 1 1 1 1]\n",
            " [1 1 1 1 1 1 1 1 1]\n",
            " [1 1 1 1 1 1 1 1 1]] (4, 9)\n"
          ]
        }
      ]
    },
    {
      "cell_type": "markdown",
      "source": [
        "# ndarray의 차원과 크기를 변경하는 reshape()"
      ],
      "metadata": {
        "id": "54-KmV1oUpn9"
      }
    },
    {
      "cell_type": "code",
      "source": [
        "array1 = np.arange(10)\n",
        "print(array1)\n",
        "array2 = array1.reshape(5,2) # reshape() : ndarray를 특정 차원 및 크기로 변환\n",
        "print(array2)"
      ],
      "metadata": {
        "colab": {
          "base_uri": "https://localhost:8080/"
        },
        "id": "ra2fdakaUteg",
        "outputId": "7ce5658b-46f4-485a-8de6-bd1a59da8264"
      },
      "execution_count": 14,
      "outputs": [
        {
          "output_type": "stream",
          "name": "stdout",
          "text": [
            "[0 1 2 3 4 5 6 7 8 9]\n",
            "[[0 1]\n",
            " [2 3]\n",
            " [4 5]\n",
            " [6 7]\n",
            " [8 9]]\n"
          ]
        }
      ]
    },
    {
      "cell_type": "code",
      "source": [
        "array3 = array1.reshape(-1,5) # -1를 인자로 사용하면 원래 ndarray와 호환되는 새로운 shape로 변환\n",
        "print(array3, array3.shape)\n",
        "array4 = array1.reshape(5,-1) \n",
        "print(array4, array4.shape)"
      ],
      "metadata": {
        "colab": {
          "base_uri": "https://localhost:8080/"
        },
        "id": "0WijxGQCjaDo",
        "outputId": "dfb43afd-8995-4e77-e42e-fd0061aea9c8"
      },
      "execution_count": 16,
      "outputs": [
        {
          "output_type": "stream",
          "name": "stdout",
          "text": [
            "[[0 1 2 3 4]\n",
            " [5 6 7 8 9]] (2, 5)\n",
            "[[0 1]\n",
            " [2 3]\n",
            " [4 5]\n",
            " [6 7]\n",
            " [8 9]] (5, 2)\n"
          ]
        }
      ]
    },
    {
      "cell_type": "code",
      "source": [
        "array1 = np.arange(8)\n",
        "print(array1, array1.shape)\n",
        "array3d = array1.reshape((2,2,2))\n",
        "print(array3d, array3d.shape)\n",
        "\n",
        "# 3차원 ndarray를 2차원 ndarray로 변환\n",
        "array5 = array3d.reshape(-1,1) # reshape(-1,1)은 원본 ndarray에 상관없이 2차원이고 1개의 칼럼을 가진 ndarray로 변환시킴\n",
        "print(array5, array5.shape)\n",
        "\n",
        "# 1차원 ndarray를 2차원 ndarray로 변환\n",
        "array6 = array1.reshape(-1,1)\n",
        "print(array6, array6.shape)"
      ],
      "metadata": {
        "colab": {
          "base_uri": "https://localhost:8080/"
        },
        "id": "BX_6NYq6j48Z",
        "outputId": "bce9316e-d837-43a1-fcb4-79ead4c5b63d"
      },
      "execution_count": 21,
      "outputs": [
        {
          "output_type": "stream",
          "name": "stdout",
          "text": [
            "[0 1 2 3 4 5 6 7] (8,)\n",
            "[[[0 1]\n",
            "  [2 3]]\n",
            "\n",
            " [[4 5]\n",
            "  [6 7]]] (2, 2, 2)\n",
            "[[0]\n",
            " [1]\n",
            " [2]\n",
            " [3]\n",
            " [4]\n",
            " [5]\n",
            " [6]\n",
            " [7]] (8, 1)\n",
            "[[0]\n",
            " [1]\n",
            " [2]\n",
            " [3]\n",
            " [4]\n",
            " [5]\n",
            " [6]\n",
            " [7]] (8, 1)\n"
          ]
        }
      ]
    }
  ]
}