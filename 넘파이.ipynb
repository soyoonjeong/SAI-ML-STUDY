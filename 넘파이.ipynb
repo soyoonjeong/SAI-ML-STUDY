{
  "nbformat": 4,
  "nbformat_minor": 0,
  "metadata": {
    "colab": {
      "name": "넘파이.ipynb",
      "provenance": [],
      "authorship_tag": "ABX9TyMm+CCfvp+fD3i4tpt1PBSf",
      "include_colab_link": true
    },
    "kernelspec": {
      "name": "python3",
      "display_name": "Python 3"
    },
    "language_info": {
      "name": "python"
    }
  },
  "cells": [
    {
      "cell_type": "markdown",
      "metadata": {
        "id": "view-in-github",
        "colab_type": "text"
      },
      "source": [
        "<a href=\"https://colab.research.google.com/github/soyoonjeong/SAI-ML-STUDY/blob/main/%EB%84%98%ED%8C%8C%EC%9D%B4.ipynb\" target=\"_parent\"><img src=\"https://colab.research.google.com/assets/colab-badge.svg\" alt=\"Open In Colab\"/></a>"
      ]
    },
    {
      "cell_type": "code",
      "source": [
        "import numpy as np"
      ],
      "metadata": {
        "id": "8Isvkx_KKLQ-"
      },
      "execution_count": null,
      "outputs": []
    },
    {
      "cell_type": "markdown",
      "source": [
        "# 넘파이 ndarray 개요 "
      ],
      "metadata": {
        "id": "DPIJ2yCmJuP0"
      }
    },
    {
      "cell_type": "code",
      "execution_count": null,
      "metadata": {
        "colab": {
          "base_uri": "https://localhost:8080/"
        },
        "id": "85C8SgKoJsFD",
        "outputId": "372292bc-09a5-442a-9cb7-1b0f6be7b878"
      },
      "outputs": [
        {
          "output_type": "stream",
          "name": "stdout",
          "text": [
            "[[1 2 3]\n",
            " [4 5 6]]\n",
            "array1 type: <class 'numpy.ndarray'>\n",
            "array1 array 형태: (2, 3)\n"
          ]
        }
      ],
      "source": [
        "# 넘파이의 array() 함수 : 인자를 입력받아 ndarray로 변환\n",
        "array1 = np.array([[1,2,3],\n",
        "                   [4,5,6]])\n",
        "print(array1)\n",
        "print('array1 type:', type(array1))\n",
        "print('array1 array 형태:', array1.shape) # ndarray의 shape : ndarray의 열과 행의 크기를 튜플 형태로"
      ]
    },
    {
      "cell_type": "code",
      "source": [
        "array2 = np.array([1,2,3])\n",
        "print(array2)\n",
        "print('array2 type:', type(array2))\n",
        "print('array2 array 형태:', array2.shape)\n",
        "print('array2 array 차원:', array2.ndim) # ndarray의 ndim : ndarray의 차원\n",
        "\n",
        "array3 = np.array([[1,2,3]])\n",
        "print(array3)\n",
        "print('array3 type:', type(array3))\n",
        "print('array3 array 형태:', array3.shape)\n",
        "print('array3 array 차원:', array3.ndim)\n",
        "\n",
        "# array2와 array3는 동일한 데이터 건수를 가지고 있지만\n",
        "# array2는 1차원 (3,) 데이터\n",
        "# array3는 1개의 행과 3개의 열로 이루어진 2차원 (1,3) 데이터"
      ],
      "metadata": {
        "colab": {
          "base_uri": "https://localhost:8080/"
        },
        "id": "kmYv06K3KoIw",
        "outputId": "b5c4afef-9810-4978-d0e2-816b60f34228"
      },
      "execution_count": null,
      "outputs": [
        {
          "output_type": "stream",
          "name": "stdout",
          "text": [
            "[1 2 3]\n",
            "array2 type: <class 'numpy.ndarray'>\n",
            "array2 array 형태: (3,)\n",
            "array2 array 차원: 1\n",
            "[[1 2 3]]\n",
            "array3 type: <class 'numpy.ndarray'>\n",
            "array3 array 형태: (1, 3)\n",
            "array3 array 차원: 2\n"
          ]
        }
      ]
    },
    {
      "cell_type": "markdown",
      "source": [
        "# ndarray의 데이터 타입"
      ],
      "metadata": {
        "id": "Wg4y0y7QL-iF"
      }
    },
    {
      "cell_type": "markdown",
      "source": [
        "ndarray 내의 데이터 타입은 연산 특성상 같은 데이터 타입만 가능!<br>\n",
        "만약 다른 데이터 유형이 섞여있는 리스트를 ndarray로 변경하면 데이터 크기가 더 큰 데이터 타입으로 형 변환"
      ],
      "metadata": {
        "id": "xcVNM40KMKum"
      }
    },
    {
      "cell_type": "code",
      "source": [
        "list1 = [1,2,'test']\n",
        "array1 = np.array(list1)\n",
        "print(array1)\n",
        "print(array1.dtype) # ndarray의 dtype : ndarray 내의 데이터 타입 확인\n",
        "# int형 값과 문자열이 섞여 있는 리스트를 ndarray로 변경하면 모두 문자열로 변환\n",
        "\n",
        "list2 = [1,2,3.0]\n",
        "array2 = np.array(list2)\n",
        "print(array2)\n",
        "print(array2.dtype)\n",
        "# int형 값과 float형이 섞여 있는 리스트를 ndarray로 변경하면 모두 float형으로 변환"
      ],
      "metadata": {
        "colab": {
          "base_uri": "https://localhost:8080/"
        },
        "id": "5Y-frdKkLzwV",
        "outputId": "a1cdce97-fcd7-46a6-de82-b94ec340a4ac"
      },
      "execution_count": null,
      "outputs": [
        {
          "output_type": "stream",
          "name": "stdout",
          "text": [
            "['1' '2' 'test']\n",
            "<U21\n",
            "[1. 2. 3.]\n",
            "float64\n"
          ]
        }
      ]
    },
    {
      "cell_type": "code",
      "source": [
        "array_float = np.array([1.1,2.2,3.3])\n",
        "array_int = array_float.astype('int32') # astype() : 인자로 원하는 타입을 문자열로 지정, 형변환\n",
        "print(array_int, array_int.dtype)"
      ],
      "metadata": {
        "colab": {
          "base_uri": "https://localhost:8080/"
        },
        "id": "ItBTExQqNH7-",
        "outputId": "733f3696-fb9b-4ce6-8dcd-e2c60cd03128"
      },
      "execution_count": null,
      "outputs": [
        {
          "output_type": "stream",
          "name": "stdout",
          "text": [
            "[1 2 3] int32\n"
          ]
        }
      ]
    },
    {
      "cell_type": "markdown",
      "source": [
        "# ndarray를 편리하게 생성하기 - arange, zeros, ones"
      ],
      "metadata": {
        "id": "wc8p6yGBTNbY"
      }
    },
    {
      "cell_type": "code",
      "source": [
        "sequence_array = np.arange(10) # arange() : 인자는 stop 값, 0부터 함수 인자 값 -1까지의 값을 순차적으로 ndarray의 데이터값으로 반환\n",
        "print(sequence_array)\n",
        "print(sequence_array.shape)"
      ],
      "metadata": {
        "colab": {
          "base_uri": "https://localhost:8080/"
        },
        "id": "q0BmdOfYTXeX",
        "outputId": "9e524f31-83bb-407e-aa27-0a36f3219c4a"
      },
      "execution_count": null,
      "outputs": [
        {
          "output_type": "stream",
          "name": "stdout",
          "text": [
            "[0 1 2 3 4 5 6 7 8 9]\n",
            "(10,)\n"
          ]
        }
      ]
    },
    {
      "cell_type": "code",
      "source": [
        "zero_array = np.zeros((4,5), dtype='int32') # zeros() : 인자로 튜플 형태의 shape 값을 입력하면 모든 값을 0으로 채운 해당 shape를 가진 ndarray 반환\n",
        "print(zero_array, zero_array.shape)"
      ],
      "metadata": {
        "colab": {
          "base_uri": "https://localhost:8080/"
        },
        "id": "8vFvQFmGT1g5",
        "outputId": "923806f9-371e-4ade-da69-04295651865b"
      },
      "execution_count": null,
      "outputs": [
        {
          "output_type": "stream",
          "name": "stdout",
          "text": [
            "[[0 0 0 0 0]\n",
            " [0 0 0 0 0]\n",
            " [0 0 0 0 0]\n",
            " [0 0 0 0 0]] (4, 5)\n"
          ]
        }
      ]
    },
    {
      "cell_type": "code",
      "source": [
        "one_array = np.ones((4,9), dtype='int32') # ones() : 인자로 튜플 형태의 shape 값을 입력하면 모든 값을 1으로 채운 해당 shape를 가진 ndarray 반환\n",
        "print(one_array, one_array.shape)"
      ],
      "metadata": {
        "colab": {
          "base_uri": "https://localhost:8080/"
        },
        "id": "eJK0dt3BUQ2x",
        "outputId": "2895f18d-8b5a-4556-973f-a430ef592894"
      },
      "execution_count": null,
      "outputs": [
        {
          "output_type": "stream",
          "name": "stdout",
          "text": [
            "[[1 1 1 1 1 1 1 1 1]\n",
            " [1 1 1 1 1 1 1 1 1]\n",
            " [1 1 1 1 1 1 1 1 1]\n",
            " [1 1 1 1 1 1 1 1 1]] (4, 9)\n"
          ]
        }
      ]
    },
    {
      "cell_type": "markdown",
      "source": [
        "# ndarray의 차원과 크기를 변경하는 reshape()"
      ],
      "metadata": {
        "id": "54-KmV1oUpn9"
      }
    },
    {
      "cell_type": "code",
      "source": [
        "array1 = np.arange(10)\n",
        "print(array1)\n",
        "array2 = array1.reshape(5,2) # reshape() : ndarray를 특정 차원 및 크기로 변환\n",
        "print(array2)"
      ],
      "metadata": {
        "colab": {
          "base_uri": "https://localhost:8080/"
        },
        "id": "ra2fdakaUteg",
        "outputId": "7ce5658b-46f4-485a-8de6-bd1a59da8264"
      },
      "execution_count": null,
      "outputs": [
        {
          "output_type": "stream",
          "name": "stdout",
          "text": [
            "[0 1 2 3 4 5 6 7 8 9]\n",
            "[[0 1]\n",
            " [2 3]\n",
            " [4 5]\n",
            " [6 7]\n",
            " [8 9]]\n"
          ]
        }
      ]
    },
    {
      "cell_type": "code",
      "source": [
        "array3 = array1.reshape(-1,5) # -1를 인자로 사용하면 원래 ndarray와 호환되는 새로운 shape로 변환\n",
        "print(array3, array3.shape)\n",
        "array4 = array1.reshape(5,-1) \n",
        "print(array4, array4.shape)"
      ],
      "metadata": {
        "colab": {
          "base_uri": "https://localhost:8080/"
        },
        "id": "0WijxGQCjaDo",
        "outputId": "dfb43afd-8995-4e77-e42e-fd0061aea9c8"
      },
      "execution_count": null,
      "outputs": [
        {
          "output_type": "stream",
          "name": "stdout",
          "text": [
            "[[0 1 2 3 4]\n",
            " [5 6 7 8 9]] (2, 5)\n",
            "[[0 1]\n",
            " [2 3]\n",
            " [4 5]\n",
            " [6 7]\n",
            " [8 9]] (5, 2)\n"
          ]
        }
      ]
    },
    {
      "cell_type": "code",
      "source": [
        "array1 = np.arange(8)\n",
        "print(array1, array1.shape)\n",
        "array3d = array1.reshape((2,2,2))\n",
        "print(array3d, array3d.shape)\n",
        "\n",
        "# 3차원 ndarray를 2차원 ndarray로 변환\n",
        "array5 = array3d.reshape(-1,1) # reshape(-1,1)은 원본 ndarray에 상관없이 2차원이고 1개의 칼럼을 가진 ndarray로 변환시킴\n",
        "print(array5, array5.shape)\n",
        "\n",
        "# 1차원 ndarray를 2차원 ndarray로 변환\n",
        "array6 = array1.reshape(-1,1)\n",
        "print(array6, array6.shape)"
      ],
      "metadata": {
        "colab": {
          "base_uri": "https://localhost:8080/"
        },
        "id": "BX_6NYq6j48Z",
        "outputId": "bce9316e-d837-43a1-fcb4-79ead4c5b63d"
      },
      "execution_count": null,
      "outputs": [
        {
          "output_type": "stream",
          "name": "stdout",
          "text": [
            "[0 1 2 3 4 5 6 7] (8,)\n",
            "[[[0 1]\n",
            "  [2 3]]\n",
            "\n",
            " [[4 5]\n",
            "  [6 7]]] (2, 2, 2)\n",
            "[[0]\n",
            " [1]\n",
            " [2]\n",
            " [3]\n",
            " [4]\n",
            " [5]\n",
            " [6]\n",
            " [7]] (8, 1)\n",
            "[[0]\n",
            " [1]\n",
            " [2]\n",
            " [3]\n",
            " [4]\n",
            " [5]\n",
            " [6]\n",
            " [7]] (8, 1)\n"
          ]
        }
      ]
    },
    {
      "cell_type": "markdown",
      "source": [
        "# 넘파이의 ndarray의 데이터 세트 선택하기 - 인덱싱(Indexing)"
      ],
      "metadata": {
        "id": "R95mv4J1UPpe"
      }
    },
    {
      "cell_type": "markdown",
      "source": [
        "### 1. 특정한 데이터만 추출"
      ],
      "metadata": {
        "id": "GAd71l9CUZRS"
      }
    },
    {
      "cell_type": "markdown",
      "source": [
        "- 1차원 ndarray"
      ],
      "metadata": {
        "id": "VQu7-5l8V3VU"
      }
    },
    {
      "cell_type": "code",
      "source": [
        "array1 = np.arange(start=1, stop=10)\n",
        "print('array1:', array1)\n",
        "print(array1[2]) # index는 0부터 시작하므로 array1[2]는 3번째 index 위치의 데이터값을 의미"
      ],
      "metadata": {
        "colab": {
          "base_uri": "https://localhost:8080/"
        },
        "id": "pwMyehR0UMty",
        "outputId": "03b8662e-9d06-4d68-eb49-726df7257b17"
      },
      "execution_count": null,
      "outputs": [
        {
          "output_type": "stream",
          "name": "stdout",
          "text": [
            "array1: [1 2 3 4 5 6 7 8 9]\n",
            "3\n"
          ]
        }
      ]
    },
    {
      "cell_type": "code",
      "source": [
        "print(array1[-1]) # 마이너스 값을 이용하여 맨 뒤에서부터 데이터 추출 가능\n",
        "print(array1[-2])"
      ],
      "metadata": {
        "colab": {
          "base_uri": "https://localhost:8080/"
        },
        "id": "xb8EtyAFVEQ9",
        "outputId": "5034040b-74f8-4ac0-9a05-347abf4b9ac7"
      },
      "execution_count": null,
      "outputs": [
        {
          "output_type": "stream",
          "name": "stdout",
          "text": [
            "9\n",
            "8\n"
          ]
        }
      ]
    },
    {
      "cell_type": "code",
      "source": [
        "array1[8] = 0 # 인덱스를 이용하여 수정 가능\n",
        "print(array1)"
      ],
      "metadata": {
        "colab": {
          "base_uri": "https://localhost:8080/"
        },
        "id": "766yz9jHVeZH",
        "outputId": "35dbdf47-2625-43f3-f1d5-e9ace033f7dd"
      },
      "execution_count": null,
      "outputs": [
        {
          "output_type": "stream",
          "name": "stdout",
          "text": [
            "[1 2 3 4 5 6 7 8 0]\n"
          ]
        }
      ]
    },
    {
      "cell_type": "markdown",
      "source": [
        "- 다차원 ndarray"
      ],
      "metadata": {
        "id": "r3lwexHwV64O"
      }
    },
    {
      "cell_type": "code",
      "source": [
        "array1d = np.arange(start = 1, stop = 10)\n",
        "array2d = array1d.reshape(3,3)\n",
        "print(array2d)\n",
        "\n",
        "# axis 0 : row 방향 축\n",
        "# axis 1 : column 방향 축\n",
        "print('(axis 0=0, axis 1=0) index 가리키는 값:', array2d[0,0]) #1\n",
        "print('(axis 0=0, axis 1=1) index 가리키는 값:', array2d[0,1]) #2\n",
        "print('(axis 0=1, axis 1=0) index 가리키는 값:', array2d[1,0]) #4\n",
        "print('(axis 0=2, axis 1=2) index 가리키는 값:', array2d[2,2]) #9"
      ],
      "metadata": {
        "colab": {
          "base_uri": "https://localhost:8080/"
        },
        "id": "EeEeeZMOVnOP",
        "outputId": "6e8dd92e-54fc-46e7-8864-c5fa0005690b"
      },
      "execution_count": null,
      "outputs": [
        {
          "output_type": "stream",
          "name": "stdout",
          "text": [
            "[[1 2 3]\n",
            " [4 5 6]\n",
            " [7 8 9]]\n",
            "(row=0, col=0) index 가리키는 값: 1\n",
            "(row=0, col=1) index 가리키는 값: 2\n",
            "(row=1, col=0) index 가리키는 값: 4\n",
            "(row=2, col=2) index 가리키는 값: 9\n"
          ]
        }
      ]
    },
    {
      "cell_type": "markdown",
      "source": [
        "### 2. 슬라이싱"
      ],
      "metadata": {
        "id": "Ug7A41unXCL7"
      }
    },
    {
      "cell_type": "markdown",
      "source": [
        "- 1차원 ndarray "
      ],
      "metadata": {
        "id": "6VVPtfvdY_4T"
      }
    },
    {
      "cell_type": "code",
      "source": [
        "array1 = np.arange(start=1, stop=10)\n",
        "# ':' 사이에 시작 인덱스와 종료 인덱스를 표시하면 시작 인덱스에서 종료 인덱스-1의 위치에 있는 데이터의 ndarray 반환\n",
        "array3 = array1[0:3] # 0번째 ~ 2번째 1,2,3"
      ],
      "metadata": {
        "id": "6xflcZQCWnQe"
      },
      "execution_count": null,
      "outputs": []
    },
    {
      "cell_type": "code",
      "source": [
        "# ':' 기호 앞에 시작 인덱스 생략 : 자동으로 맨 처음 인덱스인 0으로 간주\n",
        "array4 = array1[:3] # [0:3] : 1~3\n",
        "print(array4)\n",
        "\n",
        "# ':' 기호 뒤에 종료 인덱스 생략 : 자동으로 맨 마지막 인덱스로 간주\n",
        "array5 = array1[3:] # [3:9] : 4~9\n",
        "print(array5)\n",
        "\n",
        "# ':' 기호 앞, 뒤에 시작/종료 인덱스 생략 : 자동으로 맨 처음, 마지막 인덱스로 간주 \n",
        "array6 = array1[:]\n",
        "print(array6)"
      ],
      "metadata": {
        "colab": {
          "base_uri": "https://localhost:8080/"
        },
        "id": "uxF68pLbXHp5",
        "outputId": "de8dc3e2-cac4-4320-9e5b-9227511e7c49"
      },
      "execution_count": null,
      "outputs": [
        {
          "output_type": "stream",
          "name": "stdout",
          "text": [
            "[1 2 3]\n",
            "[4 5 6 7 8 9]\n",
            "[1 2 3 4 5 6 7 8 9]\n"
          ]
        }
      ]
    }
  ]
}